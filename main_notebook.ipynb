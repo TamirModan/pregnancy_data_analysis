{
 "cells": [
  {
   "cell_type": "markdown",
   "id": "6f6caba6-27e4-4b31-bc20-95b34195d590",
   "metadata": {},
   "source": []
  },
  {
   "cell_type": "code",
   "execution_count": 1,
   "id": "8c1679f7-010b-41ef-bebc-ed437467d2b3",
   "metadata": {},
   "outputs": [],
   "source": [
    "import pandas as pd\n",
    "import numpy as np\n",
    "import matplotlib.pyplot as plt\n",
    "import seaborn as sns\n",
    "%matplotlib inline"
   ]
  },
  {
   "cell_type": "code",
   "execution_count": 2,
   "id": "15385100-eff1-46fc-a4a2-ac6aae10f48d",
   "metadata": {},
   "outputs": [
    {
     "ename": "SyntaxError",
     "evalue": "invalid syntax (2638759359.py, line 1)",
     "output_type": "error",
     "traceback": [
      "\u001b[1;36m  Cell \u001b[1;32mIn[2], line 1\u001b[1;36m\u001b[0m\n\u001b[1;33m    df = pd.read_csv('data/babies.csv')/\u001b[0m\n\u001b[1;37m                                        ^\u001b[0m\n\u001b[1;31mSyntaxError\u001b[0m\u001b[1;31m:\u001b[0m invalid syntax\n"
     ]
    }
   ],
   "source": [
    "df = pd.read_csv('data/babies.csv')/"
   ]
  },
  {
   "cell_type": "code",
   "execution_count": null,
   "id": "2545f055-b6d0-47d6-aae1-e5275e60d987",
   "metadata": {},
   "outputs": [],
   "source": [
    "df.head()"
   ]
  },
  {
   "cell_type": "code",
   "execution_count": null,
   "id": "03f2079d-6413-412b-9b4f-a4b6e8ba5bfa",
   "metadata": {},
   "outputs": [],
   "source": [
    "df.info()"
   ]
  },
  {
   "cell_type": "code",
   "execution_count": null,
   "id": "3c788e0f-ba38-417e-84f0-22f0f6d6883b",
   "metadata": {},
   "outputs": [],
   "source": [
    "df.describe()"
   ]
  },
  {
   "cell_type": "markdown",
   "id": "7f169303-5a89-4428-9f6e-6608f8616e46",
   "metadata": {},
   "source": [
    "We'll change the data so that the columns will be more obvious and the numbers will be in the metric form (weight in kg, height in cm) "
   ]
  },
  {
   "cell_type": "code",
   "execution_count": null,
   "id": "f8b071da-c784-4825-b8a4-8e1bcfa6936a",
   "metadata": {},
   "outputs": [],
   "source": [
    "df['birth weight'] = df['bwt'] * 0.0283495231"
   ]
  },
  {
   "cell_type": "code",
   "execution_count": null,
   "id": "6c398486-1e3c-49a0-948f-2c8af052b959",
   "metadata": {},
   "outputs": [],
   "source": [
    "df = df.drop('bwt', axis = 1)"
   ]
  },
  {
   "cell_type": "code",
   "execution_count": null,
   "id": "0fb31d9a-8522-4de0-a218-fafa1c1ee7c7",
   "metadata": {},
   "outputs": [],
   "source": [
    "df['height'] = df['height']*2.54\n",
    "df['weight'] = df['weight']*0.45359237"
   ]
  },
  {
   "cell_type": "code",
   "execution_count": null,
   "id": "9786a38c-adee-4a1c-a2ff-72a670d5d888",
   "metadata": {},
   "outputs": [],
   "source": [
    "df.rename(columns={'gestation': 'pregnancy duration'}, inplace=True)"
   ]
  },
  {
   "cell_type": "markdown",
   "id": "c5898742-a028-4e52-945e-882c3edbd9b4",
   "metadata": {},
   "source": [
    "Let's look at the number of smokers out of the pregnant women in the study. As we know, in that time cigarettes were very common, also within pregnant women."
   ]
  },
  {
   "cell_type": "code",
   "execution_count": null,
   "id": "d5437bf0-2c40-4c23-b7e1-b1d59914784f",
   "metadata": {},
   "outputs": [],
   "source": [
    "sns.countplot(data = df, x = 'smoke', palette = 'coolwarm')\n",
    "plt.show()"
   ]
  },
  {
   "cell_type": "markdown",
   "id": "0521703c-a887-42e6-bc13-529fbc7af0d9",
   "metadata": {},
   "source": [
    "We can see that the number of smokers is lower than the non smokers, but still fairly high for a study of pregnant women."
   ]
  },
  {
   "cell_type": "markdown",
   "id": "4f25d8de-04f4-407a-9ea3-a48a63ab6803",
   "metadata": {},
   "source": [
    "Now, we will take a look at the distribution of the duration of the pregnancys."
   ]
  },
  {
   "cell_type": "code",
   "execution_count": null,
   "id": "e46389d7-9829-4c74-99c3-0c35703b0bfb",
   "metadata": {},
   "outputs": [],
   "source": [
    "sns.histplot(df['pregnancy duration'], bins = 30, edgecolor = 'black')\n",
    "plt.show()"
   ]
  },
  {
   "cell_type": "markdown",
   "id": "29488a7c-9af9-4395-8df4-7fe5c82187b7",
   "metadata": {},
   "source": [
    "We can see that the avarage duration is approximately 280 days. Let's check the real mean value."
   ]
  },
  {
   "cell_type": "code",
   "execution_count": null,
   "id": "d72f4584-5963-4ff0-8b1b-020cb43d42f1",
   "metadata": {},
   "outputs": [],
   "source": [
    "df['pregnancy duration'].mean()"
   ]
  },
  {
   "cell_type": "markdown",
   "id": "09f68414-dfa1-41e9-a588-dc432276005b",
   "metadata": {},
   "source": [
    "The avarage duration is around 279.3 days. For convenience, we will round it up to 280."
   ]
  },
  {
   "cell_type": "markdown",
   "id": "332d17d4-5e5d-43fe-b742-9e6478830b4e",
   "metadata": {},
   "source": [
    "We can see that wether it was the first pregnancy or not, it didn't had much of an influence on the avarage duration of the pregnancy.  \n",
    "Although, we can see that the range of pregnancy's duration is much more wide in the first pregnancy."
   ]
  },
  {
   "cell_type": "markdown",
   "id": "b150c14c-b171-4471-996e-c46770f4d279",
   "metadata": {},
   "source": [
    "We want to find any correlation between smoking and the data of the newborns."
   ]
  },
  {
   "cell_type": "code",
   "execution_count": null,
   "id": "1415e40c-d7fc-4a83-9137-cd305d01a5e6",
   "metadata": {},
   "outputs": [],
   "source": [
    "sns.heatmap(data = df.drop('case', axis = 1).corr(numeric_only=True), annot=True)\n",
    "plt.show()"
   ]
  },
  {
   "cell_type": "markdown",
   "id": "77b3b473-dcc7-4a15-9f2e-77f8c585584f",
   "metadata": {},
   "source": [
    "We can look at several points here and assume some interesting assumptions."
   ]
  },
  {
   "cell_type": "markdown",
   "id": "3d63cdde-3d63-49f1-b7f9-62b514abc673",
   "metadata": {},
   "source": [
    "Obviously, the longer the pregnancy took, the heavier the babt was born.  \n",
    "Also, there's a strong relation between the mother's height and weight."
   ]
  },
  {
   "cell_type": "markdown",
   "id": "da6eac9a-4f50-404f-9234-8e1503a88971",
   "metadata": {},
   "source": [
    "Another immidiet correlation is between the age of the mother and wether it is her first born or not."
   ]
  },
  {
   "cell_type": "markdown",
   "id": "d7ae90bb-be95-4688-9d1a-cf9783dbca89",
   "metadata": {},
   "source": [
    "We can see that smoking mothers relates oppositly to the newborn's birth weight. We will remember it later on the project, when we\n",
    "will want to anticipate the newborn's birth weight based on our data.  \n",
    "Something else we can see that affects the newborn's weight is the mother's weight and height."
   ]
  },
  {
   "cell_type": "code",
   "execution_count": null,
   "id": "6d9e9395-8340-4a51-b809-b28748560201",
   "metadata": {},
   "outputs": [],
   "source": [
    "sns.boxplot(data = df, x = 'parity', y = 'birth weight', palette = 'coolwarm')\n",
    "plt.show()"
   ]
  },
  {
   "cell_type": "markdown",
   "id": "d2fe23e9-7a7c-4546-8bbb-8ad9614193a9",
   "metadata": {},
   "source": [
    "We can see that wether it was the first pregnancy or not, it didn't had much of an influence on the avarage duration of the pregnancy.  \n",
    "Although, we can see that the range of pregnancy's duration is much more wide in the first pregnancy."
   ]
  },
  {
   "cell_type": "code",
   "execution_count": null,
   "id": "0410d1e9-be9f-4dd9-b4d1-4dcd73a25da1",
   "metadata": {},
   "outputs": [],
   "source": [
    "sns.boxplot(data = df, y = 'birth weight', x = 'smoke', palette= 'rainbow')\n",
    "plt.show()"
   ]
  },
  {
   "cell_type": "markdown",
   "id": "c96788a5-f50e-4b4b-8b6b-9cb36a1d2b3b",
   "metadata": {},
   "source": [
    "The smokers delivered a much smaller babies  than the non-smokers, as we can obviously see from the graph. It means that smoking may be a strong variable in case we want to predict the newborn's weight."
   ]
  },
  {
   "cell_type": "code",
   "execution_count": null,
   "id": "b60dfce5-b72a-4f8a-95aa-bd06f21f250f",
   "metadata": {},
   "outputs": [],
   "source": [
    "sns.boxplot(data = df, y = 'birth weight', x = 'parity', palette= 'rainbow')\n",
    "plt.show()"
   ]
  },
  {
   "cell_type": "code",
   "execution_count": null,
   "id": "044cc544-6dff-43df-a882-261e7ce4bea5",
   "metadata": {},
   "outputs": [],
   "source": [
    "sns.jointplot(data = df, x = 'age', y = 'birth weight', kind = 'hex')\n",
    "plt.show()"
   ]
  },
  {
   "cell_type": "markdown",
   "id": "d93e41b8-694d-439e-b310-e6abe26808e9",
   "metadata": {},
   "source": [
    "The most common age range for women to give birth is 20-25 years old, and the most common baby weigth is around 3.5 kg."
   ]
  },
  {
   "cell_type": "markdown",
   "id": "8190c541-0fcd-4baa-9250-35c32240f7a0",
   "metadata": {},
   "source": [
    "We want to predict wether the newborn will be born underweight. According to WHO, a baby born under 2.5 kg is considered underweight, so we will create a new binary variable column of underweight kids"
   ]
  },
  {
   "cell_type": "code",
   "execution_count": null,
   "id": "6c000305-be42-461e-a0c4-34fae9abb5a1",
   "metadata": {},
   "outputs": [],
   "source": [
    "df['low birth weight'] = (df['birth weight'] < 2.5).astype(int)"
   ]
  },
  {
   "cell_type": "code",
   "execution_count": null,
   "id": "03fe35bd-799b-4453-91b7-1fd9092aacd5",
   "metadata": {},
   "outputs": [],
   "source": [
    "df.head()"
   ]
  },
  {
   "cell_type": "code",
   "execution_count": null,
   "id": "5be0cbee-6c85-46b5-ba42-03cf81c1fe6d",
   "metadata": {},
   "outputs": [],
   "source": [
    "df['low birth weight'].value_counts()"
   ]
  },
  {
   "cell_type": "markdown",
   "id": "9958f8bb-b06f-4553-87cc-496519391f7d",
   "metadata": {},
   "source": [
    "Now, lets look at the correlation following the new column."
   ]
  },
  {
   "cell_type": "code",
   "execution_count": null,
   "id": "c723a34c-1baa-400d-aebc-2729497cfe31",
   "metadata": {},
   "outputs": [],
   "source": [
    "plt.figure(figsize=(8,8))\n",
    "sns.heatmap(df.corr(numeric_only=True), annot=True)\n",
    "plt.show()"
   ]
  },
  {
   "cell_type": "markdown",
   "id": "96d1b635-41cf-4219-af02-7457d23e9c72",
   "metadata": {},
   "source": [
    "The main factor that correlates positively with low birth weight is smoking. That's a strong clue that will benefit us to predict wether a child is born underweight or overweight.  \n",
    "The other factor is the age of the mother. That can lead us to the assumption that the older a woman is, the higher risk her baby will be born underweight."
   ]
  },
  {
   "cell_type": "markdown",
   "id": "dac162b6",
   "metadata": {},
   "source": [
    "## Prediction ##"
   ]
  },
  {
   "cell_type": "markdown",
   "id": "6bfb1b07",
   "metadata": {},
   "source": []
  }
 ],
 "metadata": {
  "kernelspec": {
   "display_name": "base",
   "language": "python",
   "name": "python3"
  },
  "language_info": {
   "codemirror_mode": {
    "name": "ipython",
    "version": 3
   },
   "file_extension": ".py",
   "mimetype": "text/x-python",
   "name": "python",
   "nbconvert_exporter": "python",
   "pygments_lexer": "ipython3",
   "version": "3.12.3"
  }
 },
 "nbformat": 4,
 "nbformat_minor": 5
}
